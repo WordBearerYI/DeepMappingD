{
 "cells": [
  {
   "cell_type": "code",
   "execution_count": 3,
   "metadata": {},
   "outputs": [
    {
     "name": "stdout",
     "output_type": "stream",
     "text": [
      "AVD_Home_011_1_traj1, ate: 51.366516461495664\n",
      "\u001b[1;31mGLFW Error: GLX: No GLXFBConfigs returned\n",
      "\u001b[0;m\u001b[1;31mGLFW Error: GLX: Failed to find a suitable GLXFBConfig\n",
      "\u001b[0;m\u001b[1;31mFailed to create window\n",
      "\u001b[0;m\u001b[1;33m[DrawGeometries] Failed creating OpenGL window.\n",
      "\u001b[0;m"
     ]
    }
   ],
   "source": [
    "!./run_eval_vis_AVD.sh"
   ]
  },
  {
   "cell_type": "code",
   "execution_count": null,
   "metadata": {},
   "outputs": [
    {
     "name": "stdout",
     "output_type": "stream",
     "text": [
      "Namespace(batch_size=16, data_dir='/home/mmvc/mmvc-ny-nas/Yi_Shi/data/ActiveVisionDataset/Home_004_1', gpu='1', latent_size=16, log_interval=8, loss='bce_ch', lr=0.001, mode='single', model=None, n_epochs=15000, n_samples=35, name='AVD_Home_004_1_traj1', scene_index=1, subsample_rate=40, traj='traj1.txt')\n",
      "maxpool\n",
      "latent size single: 16\n",
      "loading dataset\n",
      "16\n",
      "pccppcpc1123 (16, 27, 48, 3)\n",
      "creating model\n",
      "start training\n",
      "[8/15000], training loss: 0.1287\n",
      "[16/15000], training loss: 0.1140\n",
      "[24/15000], training loss: 0.1180\n",
      "[32/15000], training loss: 0.1096\n",
      "[40/15000], training loss: 0.1063\n",
      "model saved to ../results/AVD/AVD_Home_004_1_traj1/model_best.pth\n",
      "16\n",
      "AVD_Home_004_1_traj1, ate: 294.26234531780375\n",
      "[48/15000], training loss: 0.1098\n",
      "[56/15000], training loss: 0.0921\n",
      "[64/15000], training loss: 0.0904\n",
      "[72/15000], training loss: 0.1067\n",
      "[80/15000], training loss: 0.1028\n",
      "model saved to ../results/AVD/AVD_Home_004_1_traj1/model_best.pth\n",
      "16\n",
      "AVD_Home_004_1_traj1, ate: 345.4148094754708\n",
      "[88/15000], training loss: 0.0922\n",
      "[96/15000], training loss: 0.1017\n",
      "[104/15000], training loss: 0.0972\n",
      "[112/15000], training loss: 0.0975\n",
      "[120/15000], training loss: 0.0976\n",
      "model saved to ../results/AVD/AVD_Home_004_1_traj1/model_best.pth\n",
      "16\n",
      "AVD_Home_004_1_traj1, ate: 320.54530377061104\n",
      "[128/15000], training loss: 0.0932\n",
      "[136/15000], training loss: 0.1000\n",
      "[144/15000], training loss: 0.0917\n",
      "[152/15000], training loss: 0.0916\n",
      "[160/15000], training loss: 0.0984\n",
      "model saved to ../results/AVD/AVD_Home_004_1_traj1/model_best.pth\n",
      "16\n",
      "AVD_Home_004_1_traj1, ate: 387.1192084910454\n",
      "[168/15000], training loss: 0.0994\n",
      "[176/15000], training loss: 0.0988\n",
      "[184/15000], training loss: 0.0928\n",
      "[192/15000], training loss: 0.0924\n",
      "[200/15000], training loss: 0.0868\n",
      "model saved to ../results/AVD/AVD_Home_004_1_traj1/model_best.pth\n",
      "16\n",
      "AVD_Home_004_1_traj1, ate: 367.5902937786545\n",
      "[208/15000], training loss: 0.0837\n",
      "[216/15000], training loss: 0.1003\n",
      "[224/15000], training loss: 0.0963\n",
      "[232/15000], training loss: 0.0963\n",
      "[240/15000], training loss: 0.0881\n",
      "model saved to ../results/AVD/AVD_Home_004_1_traj1/model_best.pth\n",
      "16\n",
      "AVD_Home_004_1_traj1, ate: 313.69992965059515\n",
      "[248/15000], training loss: 0.0874\n",
      "[256/15000], training loss: 0.0943\n",
      "[264/15000], training loss: 0.0964\n",
      "[272/15000], training loss: 0.0920\n",
      "[280/15000], training loss: 0.1053\n",
      "model saved to ../results/AVD/AVD_Home_004_1_traj1/model_best.pth\n",
      "16\n"
     ]
    }
   ],
   "source": [
    "!./lstm_run_train_AVD.sh 1"
   ]
  },
  {
   "cell_type": "code",
   "execution_count": null,
   "metadata": {},
   "outputs": [],
   "source": [
    "!./lstm_run_train_AVD.sh 2"
   ]
  },
  {
   "cell_type": "code",
   "execution_count": null,
   "metadata": {},
   "outputs": [],
   "source": [
    "!./lstm_run_train_AVD.sh 3"
   ]
  },
  {
   "cell_type": "code",
   "execution_count": null,
   "metadata": {},
   "outputs": [],
   "source": [
    "!./lstm_run_train_AVD.sh 4"
   ]
  },
  {
   "cell_type": "code",
   "execution_count": null,
   "metadata": {},
   "outputs": [],
   "source": [
    "!./lstm_run_train_AVD.sh 5"
   ]
  },
  {
   "cell_type": "code",
   "execution_count": null,
   "metadata": {},
   "outputs": [],
   "source": [
    "!./lstm_run_train_AVD.sh 6"
   ]
  },
  {
   "cell_type": "code",
   "execution_count": null,
   "metadata": {},
   "outputs": [],
   "source": [
    "!./lstm_run_train_AVD.sh 7"
   ]
  },
  {
   "cell_type": "code",
   "execution_count": null,
   "metadata": {},
   "outputs": [],
   "source": [
    "!./lstm_run_train_AVD.sh 8"
   ]
  },
  {
   "cell_type": "code",
   "execution_count": null,
   "metadata": {},
   "outputs": [],
   "source": [
    "!./lstm_run_train_AVD.sh 9"
   ]
  },
  {
   "cell_type": "code",
   "execution_count": null,
   "metadata": {},
   "outputs": [],
   "source": [
    "!./lstm_run_train_AVD.sh 10"
   ]
  },
  {
   "cell_type": "code",
   "execution_count": null,
   "metadata": {},
   "outputs": [],
   "source": [
    "!./lstm_run_train_AVD.sh 11"
   ]
  },
  {
   "cell_type": "code",
   "execution_count": null,
   "metadata": {},
   "outputs": [],
   "source": [
    "!./lstm_run_train_AVD.sh 12"
   ]
  },
  {
   "cell_type": "code",
   "execution_count": null,
   "metadata": {},
   "outputs": [],
   "source": [
    "!./lstm_run_train_AVD.sh 13"
   ]
  },
  {
   "cell_type": "code",
   "execution_count": null,
   "metadata": {},
   "outputs": [],
   "source": [
    "!./lstm_run_train_AVD.sh 14"
   ]
  }
 ],
 "metadata": {
  "kernelspec": {
   "display_name": "Python 3",
   "language": "python",
   "name": "python3"
  },
  "language_info": {
   "codemirror_mode": {
    "name": "ipython",
    "version": 3
   },
   "file_extension": ".py",
   "mimetype": "text/x-python",
   "name": "python",
   "nbconvert_exporter": "python",
   "pygments_lexer": "ipython3",
   "version": "3.6.9"
  }
 },
 "nbformat": 4,
 "nbformat_minor": 2
}
